{
 "cells": [
  {
   "cell_type": "code",
   "execution_count": 1,
   "metadata": {},
   "outputs": [
    {
     "name": "stdout",
     "output_type": "stream",
     "text": [
      "Langchain key to start tracing\n"
     ]
    }
   ],
   "source": [
    "# %pip install --upgrade langsmith\n",
    "\n",
    "import os\n",
    "\n",
    "print(\"Langchain key to start tracing\")\n",
    "os.environ[\"LANGCHAIN_TRACING_V2\"] = \"true\"\n",
    "os.environ[\"LANGCHAIN_PROJECT\"] = \"pr-aching-poisoning-52\"\n",
    "os.environ[\"LANGCHAIN_API_KEY\"] = \"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\""
   ]
  },
  {
   "cell_type": "code",
   "execution_count": 2,
   "metadata": {},
   "outputs": [],
   "source": [
    "# %pip install --upgrade langchain_aws"
   ]
  },
  {
   "cell_type": "code",
   "execution_count": 1,
   "metadata": {},
   "outputs": [],
   "source": [
    "from getpass import getpass\n",
    "import boto3\n",
    "\n",
    "AWS_ACCESS_KEY = getpass(\"AWS Acces key: \")\n",
    "AWS_SECRET_KEY = getpass(\"AWS Secret key: \")\n",
    "AWS_REGION = \"ap-south-1\"\n",
    "\n",
    "bedrock_client = boto3.client(\n",
    "    service_name=\"bedrock-runtime\",\n",
    "    region_name=AWS_REGION,\n",
    "    aws_access_key_id=AWS_ACCESS_KEY,\n",
    "    aws_secret_access_key=AWS_SECRET_KEY,\n",
    ")"
   ]
  },
  {
   "cell_type": "code",
   "execution_count": 2,
   "metadata": {},
   "outputs": [
    {
     "name": "stderr",
     "output_type": "stream",
     "text": [
      "c:\\Users\\361DT\\AppData\\Local\\Programs\\Python\\Python312\\Lib\\site-packages\\pydantic\\_internal\\_fields.py:161: UserWarning: Field \"model_arn\" has conflict with protected namespace \"model_\".\n",
      "\n",
      "You may be able to resolve this warning by setting `model_config['protected_namespaces'] = ()`.\n",
      "  warnings.warn(\n"
     ]
    }
   ],
   "source": [
    "from langchain_aws import BedrockLLM\n",
    "\n",
    "llm = BedrockLLM(client=bedrock_client,model_id=\"amazon.titan-text-express-v1\")"
   ]
  },
  {
   "cell_type": "code",
   "execution_count": 37,
   "metadata": {},
   "outputs": [
    {
     "data": {
      "text/plain": [
       "18037"
      ]
     },
     "execution_count": 37,
     "metadata": {},
     "output_type": "execute_result"
    }
   ],
   "source": [
    "import bs4\n",
    "from langchain_community.document_loaders import WebBaseLoader\n",
    "\n",
    "# Only keep post title, headers, and content from the full HTML.\n",
    "# bs4_strainer = bs4.SoupStrainer(class_=(\"the-python-tutorial\"))\n",
    "loader = WebBaseLoader(\n",
    "    web_paths=(\"https://www.ibm.com/think/topics/data-science\",),\n",
    "    # bs_kwargs={\"parse_only\": bs4_strainer},\n",
    ")\n",
    "docs = loader.load()\n",
    "\n",
    "len(docs[0].page_content)"
   ]
  },
  {
   "cell_type": "code",
   "execution_count": 36,
   "metadata": {},
   "outputs": [
    {
     "data": {
      "text/plain": [
       "[Document(metadata={'source': 'https://www.ibm.com/think/topics/data-science', 'title': 'What is Data Science? | IBM', 'description': 'Data science is a multidisciplinary approach to gaining insights from an increasing amount of data. IBM data science products help find the value of your data.', 'language': 'en'}, page_content='\\n\\n\\n\\n\\n\\n\\n\\n\\nWhat is Data Science? | IBM\\n\\n\\n\\n\\n\\n\\n\\n\\n\\n\\n\\n\\n\\n\\n\\n\\n\\n\\n\\n\\n\\n\\n\\n\\n\\n\\n\\n\\n\\n\\n\\n\\n\\n\\n\\n\\n\\n\\n\\n\\n\\n\\n\\n\\n\\n\\n\\n\\n\\n\\n\\n\\n\\n\\n\\n\\n\\n\\n\\n\\n\\n\\n\\n\\n\\n\\n\\n\\n\\n\\n\\n\\n\\n\\n\\n\\n\\n                        \\n\\n\\n\\n  \\n    What is data science?\\n\\n\\n\\n\\n\\n\\n    \\n\\n\\n                    \\n\\n\\n\\n\\n\\n\\n\\n\\n\\n\\n\\n\\n\\n\\n\\n\\n\\n\\n\\n\\n\\n\\n\\n\\n\\n\\n                                    Analytics\\n                                \\n\\n\\n\\n\\n\\n\\n\\n\\n\\n\\n\\n\\n\\n\\n\\n                Link copied\\n            \\n\\n\\n\\n\\n\\n\\n\\n\\n\\n\\n\\n\\n\\n\\n\\n\\n\\n\\n\\n\\n\\n\\n\\n\\n\\n\\n\\n\\n\\n\\n\\n\\n\\n\\n\\n\\n\\n\\n\\n\\r\\n        What is data science?\\r\\n    \\n\\n\\n\\nData science combines math and statistics, specialized programming, advanced\\xa0analytics, artificial intelligence (AI)\\xa0and machine learning with specific subject matter expertise to uncover actionable insights hidden in an organization’s data. These insights can be used to guide decision making and strategic planning.\\n\\n\\nThe accelerating volume of data sources, and subsequently data, has made data science is one of the fastest growing field across every industry. As a result, it is no surprise that the role of the data scientist was dubbed the “sexiest job of the 21st century” by\\xa0Harvard Business Review. Organizations are increasingly reliant on them to interpret data and provide actionable recommendations to improve business outcomes.\\nThe data science lifecycle involves various roles, tools, and processes, which enables analysts to glean actionable insights. Typically, a data science project undergoes the following stages:\\nData ingestion:\\xa0The lifecycle begins with the data collection—both raw structured and unstructured data from all relevant sources using a variety of methods. These methods can include manual entry, web scraping, and real-time streaming data from systems and devices. Data sources can include structured data, such as customer data, along with unstructured data like log files, video, audio, pictures, the Internet of Things (IoT), social media, and more.\\nData storage and data processing:\\xa0Since data can have different formats and structures, companies need to consider different storage systems based on the type of data that needs to be captured. Data management teams help to set standards around data storage and structure, which facilitate workflows around analytics, machine learning and deep learning models. This stage includes cleaning data, deduplicating, transforming and combining the data using\\xa0ETL\\xa0(extract, transform, load) jobs or other data integration technologies. This data preparation is essential for promoting data quality before loading into a\\xa0data warehouse,\\xa0data lake, or other repository.\\nData analysis:\\xa0Here, data scientists conduct an exploratory data analysis to examine biases, patterns, ranges, and distributions of values within the data. This data analytics exploration drives hypothesis generation for a/b testing. It also allows analysts to determine the data’s relevance for use within modeling efforts for predictive analytics, machine learning, and/or deep learning. Depending on a model’s accuracy, organizations can become reliant on these insights for business decision making, allowing them to drive more scalability.\\nCommunicate:\\xa0Finally, insights are presented as reports and other data visualizations that make the insights—and their impact on business—easier for business analysts and other decision-makers to understand. A data science programming language such as R or Python includes components for generating visualizations; alternately, data scientists can use dedicated visualization tools.\\n\\n\\n\\n\\n\\n\\n\\n\\n\\n\\n\\nIndustry newsletter\\n\\n\\n\\nThe latest tech news, backed by expert insights\\n\\n\\nThank you! You are subscribed.\\n\\n\\n\\nStay up to date on the most important—and intriguing—industry trends on AI, automation, data and beyond with the Think newsletter.\\xa0See the\\xa0IBM Privacy Statement.\\n\\n\\n\\n\\n\\n\\n\\n\\n\\n\\n\\n\\n\\n\\n\\n\\n\\n\\n\\n\\n\\nYour subscription will be delivered in English. You will find an unsubscribe link in every newsletter. You can manage your subscriptions or unsubscribe here. Refer to our IBM Privacy Statement for more information.\\n\\n\\n\\n\\n\\n\\n\\n\\n\\n\\n\\n\\n\\n\\n\\n\\r\\n        Data science versus data scientist\\r\\n    \\n\\n\\n\\nData science is considered a discipline, while data scientists are the practitioners within that field. Data scientists are not necessarily directly responsible for all the processes involved in the data science lifecycle. For example, data pipelines are typically handled by data engineers—but the data scientist may make recommendations about what sort of data is useful or required. While data scientists can build machine learning models, scaling these efforts at a larger level requires more software engineering skills to optimize a program to run more quickly. As a result, it’s common for a data scientist to partner with machine learning engineers to scale machine learning models.\\nData scientist responsibilities can commonly overlap with a data analyst, particularly with exploratory data analysis and data visualization. However, a data scientist’s skillset is typically broader than the average data analyst. Comparatively speaking, data scientist leverage common programming languages, such as R and Python, to conduct more statistical inference and data visualization.\\nTo perform these tasks, data scientists require computer science and pure science skills beyond those of a typical business analyst or data analyst. The data scientist must also understand the specifics of the business, such as automobile manufacturing, eCommerce, or healthcare.\\nIn short, a data scientist must be able to:\\nKnow enough about the business to ask pertinent questions and identify business pain points.Apply statistics and computer science, along with business acumen, to data analysis.Use a wide range of tools and techniques for preparing and extracting data—everything from databases and SQL to data mining to data integration methods.Extract insights from big data using predictive analytics and\\xa0artificial intelligence\\xa0(AI), including\\xa0machine learning models,\\xa0natural language processing, and\\xa0deep learning.Write programs that automate data processing and calculations.Tell—and illustrate—stories that clearly convey the meaning of results to decision-makers and stakeholders at every level of technical understanding.Explain how the results can be used to solve business problems.Collaborate with other data science team members, such as data and business analysts, IT architects, data engineers, and application developers.\\nThese skills are in high demand, and as a result, many individuals that are breaking into a data science career, explore a variety of data science programs, such as certification programs, data science courses, and degree programs offered by educational institutions.\\n\\n\\n\\n\\n\\n\\n\\n\\n\\n\\n\\n\\n\\n  \\n  \\n      Mixture of Experts | 27 February, episode 44\\n  \\n\\n\\n\\n\\n    \\n\\n\\n\\n\\n\\n\\n\\n\\n\\n\\n\\n\\n\\n            \\n\\n\\n\\n  \\n    Decoding AI: Weekly News Roundup\\n\\n\\n\\n\\n\\n\\n    \\n\\n\\n        \\n\\n\\nJoin our world-class panel of engineers, researchers, product leaders and more as they cut through the AI noise to bring you the latest in AI news and insights.\\n\\n\\n\\n\\nWatch the latest podcast episodes\\n\\n\\n\\n\\n\\n\\n\\n\\n\\n\\n\\n\\n\\n\\n\\n\\n\\n\\n\\n\\n\\r\\n        Data science versus business intelligence\\r\\n    \\n\\n\\n\\nIt may be easy to confuse the terms “data science” and “business intelligence” (BI) because they both relate to an organization’s data and analysis of that data, but they do differ in focus.\\nBusiness intelligence (BI) is typically an umbrella term for the technology that enables data preparation, data mining, data management, and data visualization. Business intelligence tools and processes allow end users to identify actionable information from raw data, facilitating data-driven decision-making within organizations across various industries. While data science tools overlap in much of this regard, business intelligence focuses more on data from the past, and the insights from BI tools are more descriptive in nature. It uses data to understand what happened before to inform a course of action. BI is geared toward static (unchanging) data that is usually structured. While data science uses descriptive data, it typically utilizes it to determine predictive variables, which are then used to categorize data or to make forecasts.\\nData science and BI are not mutually exclusive—digitally savvy organizations use both to fully understand and extract value from their data.\\n\\n\\n\\r\\n        Data science tools\\r\\n    \\n\\n\\n\\nData scientists rely on popular programming languages to conduct exploratory data analysis and statistical regression. These open source tools support pre-built statistical modeling, machine learning, and graphics capabilities. These languages include the following (read more at \"Python vs. R: What\\'s the Difference?\"):\\nR Studio:\\xa0An open source programming language and environment for developing statistical computing and graphics.Python:\\xa0It is a dynamic and flexible programming language. The Python includes numerous libraries, such as NumPy, Pandas, Matplotlib, for analyzing data quickly.\\nTo facilitate sharing code and other information, data scientists may use GitHub and Jupyter notebooks.\\nSome data scientists may prefer a user interface, and two common enterprise tools for statistical analysis include:\\nSAS:\\xa0A comprehensive tool suite, including visualizations and interactive dashboards, for analyzing, reporting, data mining, and predictive modeling.IBM SPSS:\\xa0Offers advanced statistical analysis, a large library of machine learning algorithms, text analysis, open source extensibility, integration with big data, and seamless deployment into applications.\\nData scientists also gain proficiency in using big data processing platforms, such as Apache Spark, the open source framework Apache Hadoop, and NoSQL databases. They are also skilled with a wide range of data visualization tools, including simple graphics tools included with business presentation and spreadsheet applications (like Microsoft Excel), built-for-purpose commercial visualization tools like Tableau and IBM Cognos, and open source tools like D3.js (a JavaScript library for creating interactive data visualizations) and RAW Graphs. For building machine learning models, data scientists frequently turn to several frameworks like PyTorch, TensorFlow, MXNet, and Spark MLib.\\nGiven the steep learning curve in data science, many companies are seeking to accelerate their return on investment for AI projects; they often struggle to hire the talent needed to realize data science project’s full potential. To address this gap, they are turning to multipersona data science and machine learning (DSML) platforms, giving rise to the role of “citizen data scientist.”\\nMultipersona DSML platforms use automation, self-service portals, and low-code/no-code user interfaces so that people with little or no background in digital technology or expert data science can create business value using data science and machine learning. These platforms also support expert data scientists by also offering a more technical interface. Using a multipersona DSML platform encourages collaboration across the enterprise.\\n\\n\\n\\r\\n        Data science and cloud computing\\r\\n    \\n\\n\\n\\nCloud computing\\xa0scales data science by providing access to additional processing power, storage, and other tools required for data science projects.\\nSince data science frequently leverages large data sets, tools that can scale with the size of the data is incredibly important, particularly for time-sensitive projects. Cloud storage solutions, such as data lakes, provide access to storage infrastructure, which are capable of ingesting and processing large volumes of data with ease. These storage systems provide flexibility to end users, allowing them to spin up large clusters as needed. They can also add incremental compute nodes to expedite data processing jobs, allowing the business to make short-term tradeoffs for a larger long-term outcome. Cloud platforms typically have different pricing models, such a per-use or subscriptions, to meet the needs of their end user—whether they are a large enterprise or a small startup.\\nOpen source technologies are widely used in data science tool sets. When they’re hosted in the cloud, teams don’t need to install, configure, maintain, or update them locally. Several cloud providers, including IBM Cloud®, also offer prepackaged tool kits that enable data scientists to build models without coding, further democratizing access to technology innovations and data insights.\\n\\n\\n\\r\\n        Data science use cases\\r\\n    \\n\\n\\n\\nEnterprises can unlock numerous benefits from data science. Common use cases include process optimization through intelligent automation and enhanced targeting and personalization to improve the customer experience (CX). However, more specific examples include:\\nHere are a few representative use cases for data science and artificial intelligence:\\nAn international bank\\xa0delivers faster loan services with a mobile app\\xa0using machine learning-powered credit risk models and a\\xa0hybrid cloud computing\\xa0architecture that is both powerful and secure.An electronics firm is developing\\xa0ultra-powerful 3D-printed sensors to guide tomorrow’s driverless vehicles. The solution relies on data science and analytics tools to enhance its real-time object detection capabilities.A robotic process automation (RPA) solution provider developed a\\xa0cognitive business process mining solution\\xa0that reduces incident handling times between 15% and 95% for its client companies. The solution is trained to understand the content and sentiment of customer emails, directing service teams to prioritize those that are most relevant and urgent.A digital media technology company created an audience analytics platform that enables its clients to see what’s engaging TV audiences as they’re offered a growing range of digital channels. The solution employs deep analytics and machine learning to gather real-time insights into viewer behavior.An\\xa0urban police department created statistical incident analysis tools\\xa0to help officers understand when and where to deploy resources in order to prevent crime. The data-driven solution creates reports and dashboards to augment situational awareness for field officers.Shanghai Changjiang Science and Technology Development used IBM® Watson® technology to build an\\xa0AI-based medical assessment platform\\xa0that can analyze existing medical records to categorize patients based on their risk of experiencing a stroke and that can predict the success rate of different treatment plans.\\n\\n\\n\\n\\n\\n\\n\\n\\n\\n\\n\\n\\n\\n            Ebook\\n        \\n\\n            Four steps to better business forecasting with analytics\\n        \\nUse the power of analytics and business intelligence to plan, forecast and shape future outcomes that best benefit your company and customers.\\n\\nRead the ebook\\n\\n\\n\\n\\n\\n\\n\\n\\n\\n\\n\\n\\n\\n\\n\\n\\n\\n\\n\\n\\n\\n\\n\\n\\n\\n\\n\\n\\n\\n\\n\\n\\n\\n\\n\\n\\n\\n            \\n\\n\\n\\n  \\n    Resources\\n\\n\\n\\n\\n\\n\\n    \\n\\n\\n        \\n\\n\\n\\n\\n\\n\\n\\n\\n\\n\\n\\n\\n\\n            AI models\\n        \\n\\n            Explore IBM Granite\\n        \\nIBM® Granite™ is our family of open, performant and trusted AI models, tailored for business and optimized to scale your AI applications. Explore language, code, time series and guardrail options.\\n\\nMeet Granite\\n\\n\\n\\n\\n\\n\\n            Report\\n        \\n\\n            Managing data for AI and analytics at scale\\n        \\nLearn how an open data lakehouse approach can provide trustworthy data and faster analytics and AI projects execution.\\n\\nRead the report\\n\\n\\n\\n\\n\\n\\n            Ebook\\n        \\n\\n            Data science and MLOps for data leaders\\n        \\nUse this ebook to align with other leaders on the 3 key goals of MLOps and trustworthy AI: trust in data, trust in models and trust in processes.\\n\\nRead the ebook\\n\\n\\n\\n\\n\\n\\n            Report\\n        \\n\\n            Increase AI adoption with AI-ready data\\n        \\nDiscover why AI-powered data intelligence and data integration are critical to drive structured and unstructured data preparedness and accelerate AI outcomes.\\n\\nRead the report\\n\\n\\n\\n\\n\\n\\n            Guide\\n        \\n\\n            The data differentiator\\n        \\nExplore the data leader\\'s guide to building a data-driven organization and driving business advantage.\\n\\nRead the guide\\n\\n\\n\\n\\n\\n\\n            Ebook\\n        \\n\\n            How to choose the right foundation model\\n        \\nLearn how to select the most suitable AI foundation model for your use case.\\n\\nRead the ebook\\n\\n\\n\\n\\n\\n\\n            Ebook\\n        \\n\\n            Unlock the Power of Generative AI + ML\\n        \\nLearn how to incorporate generative AI, machine learning and foundation models into your business operations for improved performance.\\n\\nRead the ebook\\n\\n\\n\\n\\n\\n\\n            Insight\\n        \\n\\n            Architectural thinking in the Wild West of data science\\n        \\nLearn why having a complete freedom in choice of programming languages, tools and frameworks improves creative thinking and evolvement.\\n\\nRead the insight\\n\\n\\n\\n\\n\\n\\n\\n\\n\\n\\n\\n\\n\\n\\n\\n\\n\\n\\n\\n\\n\\n\\n\\n\\n\\n            \\n            \\n\\n     \\n    Related solutions\\n\\n\\n\\n\\n    \\n\\n\\n        \\n\\n\\n\\n\\n\\n\\n\\n\\n\\n\\n\\n\\n\\n\\n\\n\\n\\n\\n\\n\\n\\n\\n\\n\\n\\n\\n\\n\\n\\n\\n\\n\\n\\n\\n\\n\\n\\n\\n\\n\\n\\n\\n\\n\\n\\n\\n\\n\\n\\n\\n\\n\\n\\n\\n\\n\\n\\n\\n        \\n\\n\\n\\n  \\n    Data science tools and solutions\\n\\n\\n\\n\\n\\n\\n    \\n\\n\\n    \\n\\n\\n\\nUse data science tools and solutions to uncover patterns and build predictions by using data, algorithms, machine learning and AI techniques.\\n\\n\\n\\nExplore data science solutions\\n            \\n        \\n\\n\\n\\n\\n\\n\\n\\n\\n\\n\\n\\n\\n\\n\\n\\n\\n\\n\\n\\n\\n\\n\\n\\n\\n\\n\\n\\n\\n\\n\\n\\n\\n\\n\\n\\n\\n\\n\\n\\n\\n\\n\\n\\n\\n\\n\\n\\n\\n\\n\\n\\n\\n\\n\\n\\n\\n\\n\\n\\n        \\n\\n\\n\\n  \\n    IBM Cognos Analytics\\n\\n\\n\\n\\n\\n\\n    \\n\\n\\n    \\n\\n\\n\\nIntroducing Cognos Analytics 12.0, AI-powered insights for better decision-making.\\n\\n\\n\\nExplore Cognos Analytics\\n            \\n        \\n\\n\\n\\n\\n\\n\\n\\n\\n\\n\\n\\n\\n\\n\\n\\n\\n\\n\\n\\n\\n\\n\\n\\n\\n\\n\\n\\n\\n\\n\\n\\n\\n\\n\\n\\n\\n\\n\\n\\n\\n\\n\\n\\n\\n\\n\\n\\n\\n\\n\\n\\n\\n\\n\\n\\n\\n\\n\\n        \\n\\n\\n\\n  \\n    Data and analytics consulting services\\n\\n\\n\\n\\n\\n\\n    \\n\\n\\n    \\n\\n\\n\\nUnlock the value of enterprise data with IBM Consulting, building an insight-driven organization that delivers business advantage.\\n\\n\\n\\nDiscover analytics services\\n            \\n        \\n\\n\\n\\n\\n\\n\\n\\n\\n\\n\\n\\n\\n\\n\\n\\n\\n\\n\\n\\n\\nTake the next step\\n\\n\\n\\n\\nUse data science tools and solutions to uncover patterns and build predictions by using data, algorithms, machine learning and AI techniques.\\n\\n\\n\\n\\n\\nExplore data science solutions\\n\\n\\n\\nExplore analytics services\\n\\n\\n\\n\\n\\n\\n\\n\\n\\n\\n\\n\\n\\n\\n\\n\\n\\n\\n\\n\\n\\n\\n\\n\\n\\n\\n\\n\\n\\n\\n\\n\\n\\n\\n\\n\\n\\n\\n\\n\\n\\n\\n\\n\\n\\n\\n\\n\\n\\n\\n\\n\\n\\n\\n\\n\\n\\n\\n\\n\\n\\n\\n\\n')]"
      ]
     },
     "execution_count": 36,
     "metadata": {},
     "output_type": "execute_result"
    }
   ],
   "source": [
    "docs"
   ]
  },
  {
   "cell_type": "code",
   "execution_count": 38,
   "metadata": {},
   "outputs": [
    {
     "name": "stdout",
     "output_type": "stream",
     "text": [
      "\n",
      "\n",
      "\n",
      "\n",
      "\n",
      "\n",
      "\n",
      "\n",
      "\n",
      "What is Data Science? | IBM\n",
      "\n",
      "\n",
      "\n",
      "\n",
      "\n",
      "\n",
      "\n",
      "\n",
      "\n",
      "\n",
      "\n",
      "\n",
      "\n",
      "\n",
      "\n",
      "\n",
      "\n",
      "\n",
      "\n",
      "\n",
      "\n",
      "\n",
      "\n",
      "\n",
      "\n",
      "\n",
      "\n",
      "\n",
      "\n",
      "\n",
      "\n",
      "\n",
      "\n",
      "\n",
      "\n",
      "\n",
      "\n",
      "\n",
      "\n",
      "\n",
      "\n",
      "\n",
      "\n",
      "\n",
      "\n",
      "\n",
      "\n",
      "\n",
      "\n",
      "\n",
      "\n",
      "\n",
      "\n",
      "\n",
      "\n",
      "\n",
      "\n",
      "\n",
      "\n",
      "\n",
      "\n",
      "\n",
      "\n",
      "\n",
      "\n",
      "\n",
      "\n",
      "\n",
      "\n",
      "\n",
      "\n",
      "\n",
      "\n",
      "\n",
      "\n",
      "\n",
      "\n",
      "                        \n",
      "\n",
      "\n",
      "\n",
      "  \n",
      "    What is data science?\n",
      "\n",
      "\n",
      "\n",
      "\n",
      "\n",
      "\n",
      "    \n",
      "\n",
      "\n",
      "                \n"
     ]
    }
   ],
   "source": [
    "print(docs[0].page_content[:200])"
   ]
  },
  {
   "cell_type": "code",
   "execution_count": 39,
   "metadata": {},
   "outputs": [
    {
     "data": {
      "text/plain": [
       "55"
      ]
     },
     "execution_count": 39,
     "metadata": {},
     "output_type": "execute_result"
    }
   ],
   "source": [
    "from langchain_text_splitters import RecursiveCharacterTextSplitter\n",
    "\n",
    "text_splitter = RecursiveCharacterTextSplitter(\n",
    "    chunk_size=500, chunk_overlap=150, add_start_index=True\n",
    ")\n",
    "all_splits = text_splitter.split_documents(docs)\n",
    "\n",
    "len(all_splits)"
   ]
  },
  {
   "cell_type": "code",
   "execution_count": 40,
   "metadata": {},
   "outputs": [
    {
     "data": {
      "text/plain": [
       "[Document(metadata={'source': 'https://www.ibm.com/think/topics/data-science', 'title': 'What is Data Science? | IBM', 'description': 'Data science is a multidisciplinary approach to gaining insights from an increasing amount of data. IBM data science products help find the value of your data.', 'language': 'en', 'start_index': 9}, page_content='What is Data Science? | IBM\\n\\n\\n\\n\\n\\n\\n\\n\\n\\n\\n\\n\\n\\n\\n\\n\\n\\n\\n\\n\\n\\n\\n\\n\\n\\n\\n\\n\\n\\n\\n\\n\\n\\n\\n\\n\\n\\n\\n\\n\\n\\n\\n\\n\\n\\n\\n\\n\\n\\n\\n\\n\\n\\n\\n\\n\\n\\n\\n\\n\\n\\n\\n\\n\\n\\n\\n\\n\\n\\n\\n\\n\\n\\n\\n\\n\\n\\n                        \\n\\n\\n\\n  \\n    What is data science?\\n\\n\\n\\n\\n\\n\\n    \\n\\n\\n                    \\n\\n\\n\\n\\n\\n\\n\\n\\n\\n\\n\\n\\n\\n\\n\\n\\n\\n\\n\\n\\n\\n\\n\\n\\n\\n\\n                                    Analytics\\n                                \\n\\n\\n\\n\\n\\n\\n\\n\\n\\n\\n\\n\\n\\n\\n\\n                Link copied\\n            \\n\\n\\n\\n\\n\\n\\n\\n\\n\\n\\n\\n\\n\\n\\n\\n\\n\\n\\n\\n\\n\\n\\n\\n\\n\\n\\n\\n\\n\\n\\n\\n\\n\\n\\n\\n\\n\\n\\n\\n\\r\\n        What is data science?'),\n",
       " Document(metadata={'source': 'https://www.ibm.com/think/topics/data-science', 'title': 'What is Data Science? | IBM', 'description': 'Data science is a multidisciplinary approach to gaining insights from an increasing amount of data. IBM data science products help find the value of your data.', 'language': 'en', 'start_index': 341}, page_content='Link copied\\n            \\n\\n\\n\\n\\n\\n\\n\\n\\n\\n\\n\\n\\n\\n\\n\\n\\n\\n\\n\\n\\n\\n\\n\\n\\n\\n\\n\\n\\n\\n\\n\\n\\n\\n\\n\\n\\n\\n\\n\\n\\r\\n        What is data science?\\r\\n    \\n\\n\\n\\nData science combines math and statistics, specialized programming, advanced\\xa0analytics, artificial intelligence (AI)\\xa0and machine learning with specific subject matter expertise to uncover actionable insights hidden in an organization’s data. These insights can be used to guide decision making and strategic planning.'),\n",
       " Document(metadata={'source': 'https://www.ibm.com/think/topics/data-science', 'title': 'What is Data Science? | IBM', 'description': 'Data science is a multidisciplinary approach to gaining insights from an increasing amount of data. IBM data science products help find the value of your data.', 'language': 'en', 'start_index': 766}, page_content='The accelerating volume of data sources, and subsequently data, has made data science is one of the fastest growing field across every industry. As a result, it is no surprise that the role of the data scientist was dubbed the “sexiest job of the 21st century” by\\xa0Harvard Business Review. Organizations are increasingly reliant on them to interpret data and provide actionable recommendations to improve business outcomes.'),\n",
       " Document(metadata={'source': 'https://www.ibm.com/think/topics/data-science', 'title': 'What is Data Science? | IBM', 'description': 'Data science is a multidisciplinary approach to gaining insights from an increasing amount of data. IBM data science products help find the value of your data.', 'language': 'en', 'start_index': 1189}, page_content='The data science lifecycle involves various roles, tools, and processes, which enables analysts to glean actionable insights. Typically, a data science project undergoes the following stages:'),\n",
       " Document(metadata={'source': 'https://www.ibm.com/think/topics/data-science', 'title': 'What is Data Science? | IBM', 'description': 'Data science is a multidisciplinary approach to gaining insights from an increasing amount of data. IBM data science products help find the value of your data.', 'language': 'en', 'start_index': 1381}, page_content='Data ingestion:\\xa0The lifecycle begins with the data collection—both raw structured and unstructured data from all relevant sources using a variety of methods. These methods can include manual entry, web scraping, and real-time streaming data from systems and devices. Data sources can include structured data, such as customer data, along with unstructured data like log files, video, audio, pictures, the Internet of Things (IoT), social media, and more.'),\n",
       " Document(metadata={'source': 'https://www.ibm.com/think/topics/data-science', 'title': 'What is Data Science? | IBM', 'description': 'Data science is a multidisciplinary approach to gaining insights from an increasing amount of data. IBM data science products help find the value of your data.', 'language': 'en', 'start_index': 1836}, page_content='Data storage and data processing:\\xa0Since data can have different formats and structures, companies need to consider different storage systems based on the type of data that needs to be captured. Data management teams help to set standards around data storage and structure, which facilitate workflows around analytics, machine learning and deep learning models. This stage includes cleaning data, deduplicating, transforming and combining the data using\\xa0ETL\\xa0(extract, transform, load) jobs or other'),\n",
       " Document(metadata={'source': 'https://www.ibm.com/think/topics/data-science', 'title': 'What is Data Science? | IBM', 'description': 'Data science is a multidisciplinary approach to gaining insights from an increasing amount of data. IBM data science products help find the value of your data.', 'language': 'en', 'start_index': 2189}, page_content='models. This stage includes cleaning data, deduplicating, transforming and combining the data using\\xa0ETL\\xa0(extract, transform, load) jobs or other data integration technologies. This data preparation is essential for promoting data quality before loading into a\\xa0data warehouse,\\xa0data lake, or other repository.'),\n",
       " Document(metadata={'source': 'https://www.ibm.com/think/topics/data-science', 'title': 'What is Data Science? | IBM', 'description': 'Data science is a multidisciplinary approach to gaining insights from an increasing amount of data. IBM data science products help find the value of your data.', 'language': 'en', 'start_index': 2497}, page_content='Data analysis:\\xa0Here, data scientists conduct an exploratory data analysis to examine biases, patterns, ranges, and distributions of values within the data. This data analytics exploration drives hypothesis generation for a/b testing. It also allows analysts to determine the data’s relevance for use within modeling efforts for predictive analytics, machine learning, and/or deep learning. Depending on a model’s accuracy, organizations can become reliant on these insights for business decision'),\n",
       " Document(metadata={'source': 'https://www.ibm.com/think/topics/data-science', 'title': 'What is Data Science? | IBM', 'description': 'Data science is a multidisciplinary approach to gaining insights from an increasing amount of data. IBM data science products help find the value of your data.', 'language': 'en', 'start_index': 2847}, page_content='machine learning, and/or deep learning. Depending on a model’s accuracy, organizations can become reliant on these insights for business decision making, allowing them to drive more scalability.'),\n",
       " Document(metadata={'source': 'https://www.ibm.com/think/topics/data-science', 'title': 'What is Data Science? | IBM', 'description': 'Data science is a multidisciplinary approach to gaining insights from an increasing amount of data. IBM data science products help find the value of your data.', 'language': 'en', 'start_index': 3042}, page_content='Communicate:\\xa0Finally, insights are presented as reports and other data visualizations that make the insights—and their impact on business—easier for business analysts and other decision-makers to understand. A data science programming language such as R or Python includes components for generating visualizations; alternately, data scientists can use dedicated visualization tools.'),\n",
       " Document(metadata={'source': 'https://www.ibm.com/think/topics/data-science', 'title': 'What is Data Science? | IBM', 'description': 'Data science is a multidisciplinary approach to gaining insights from an increasing amount of data. IBM data science products help find the value of your data.', 'language': 'en', 'start_index': 3436}, page_content='Industry newsletter\\n\\n\\n\\nThe latest tech news, backed by expert insights\\n\\n\\nThank you! You are subscribed.\\n\\n\\n\\nStay up to date on the most important—and intriguing—industry trends on AI, automation, data and beyond with the Think newsletter.\\xa0See the\\xa0IBM Privacy Statement.'),\n",
       " Document(metadata={'source': 'https://www.ibm.com/think/topics/data-science', 'title': 'What is Data Science? | IBM', 'description': 'Data science is a multidisciplinary approach to gaining insights from an increasing amount of data. IBM data science products help find the value of your data.', 'language': 'en', 'start_index': 3726}, page_content='Your subscription will be delivered in English. You will find an unsubscribe link in every newsletter. You can manage your subscriptions or unsubscribe here. Refer to our IBM Privacy Statement for more information.\\n\\n\\n\\n\\n\\n\\n\\n\\n\\n\\n\\n\\n\\n\\n\\n\\r\\n        Data science versus data scientist'),\n",
       " Document(metadata={'source': 'https://www.ibm.com/think/topics/data-science', 'title': 'What is Data Science? | IBM', 'description': 'Data science is a multidisciplinary approach to gaining insights from an increasing amount of data. IBM data science products help find the value of your data.', 'language': 'en', 'start_index': 4010}, page_content='Data science is considered a discipline, while data scientists are the practitioners within that field. Data scientists are not necessarily directly responsible for all the processes involved in the data science lifecycle. For example, data pipelines are typically handled by data engineers—but the data scientist may make recommendations about what sort of data is useful or required. While data scientists can build machine learning models, scaling these efforts at a larger level requires more'),\n",
       " Document(metadata={'source': 'https://www.ibm.com/think/topics/data-science', 'title': 'What is Data Science? | IBM', 'description': 'Data science is a multidisciplinary approach to gaining insights from an increasing amount of data. IBM data science products help find the value of your data.', 'language': 'en', 'start_index': 4360}, page_content='sort of data is useful or required. While data scientists can build machine learning models, scaling these efforts at a larger level requires more software engineering skills to optimize a program to run more quickly. As a result, it’s common for a data scientist to partner with machine learning engineers to scale machine learning models.'),\n",
       " Document(metadata={'source': 'https://www.ibm.com/think/topics/data-science', 'title': 'What is Data Science? | IBM', 'description': 'Data science is a multidisciplinary approach to gaining insights from an increasing amount of data. IBM data science products help find the value of your data.', 'language': 'en', 'start_index': 4701}, page_content='Data scientist responsibilities can commonly overlap with a data analyst, particularly with exploratory data analysis and data visualization. However, a data scientist’s skillset is typically broader than the average data analyst. Comparatively speaking, data scientist leverage common programming languages, such as R and Python, to conduct more statistical inference and data visualization.'),\n",
       " Document(metadata={'source': 'https://www.ibm.com/think/topics/data-science', 'title': 'What is Data Science? | IBM', 'description': 'Data science is a multidisciplinary approach to gaining insights from an increasing amount of data. IBM data science products help find the value of your data.', 'language': 'en', 'start_index': 5094}, page_content='To perform these tasks, data scientists require computer science and pure science skills beyond those of a typical business analyst or data analyst. The data scientist must also understand the specifics of the business, such as automobile manufacturing, eCommerce, or healthcare.\\nIn short, a data scientist must be able to:'),\n",
       " Document(metadata={'source': 'https://www.ibm.com/think/topics/data-science', 'title': 'What is Data Science? | IBM', 'description': 'Data science is a multidisciplinary approach to gaining insights from an increasing amount of data. IBM data science products help find the value of your data.', 'language': 'en', 'start_index': 5418}, page_content='Know enough about the business to ask pertinent questions and identify business pain points.Apply statistics and computer science, along with business acumen, to data analysis.Use a wide range of tools and techniques for preparing and extracting data—everything from databases and SQL to data mining to data integration methods.Extract insights from big data using predictive analytics and\\xa0artificial intelligence\\xa0(AI), including\\xa0machine learning models,\\xa0natural language processing, and\\xa0deep'),\n",
       " Document(metadata={'source': 'https://www.ibm.com/think/topics/data-science', 'title': 'What is Data Science? | IBM', 'description': 'Data science is a multidisciplinary approach to gaining insights from an increasing amount of data. IBM data science products help find the value of your data.', 'language': 'en', 'start_index': 5763}, page_content='from big data using predictive analytics and\\xa0artificial intelligence\\xa0(AI), including\\xa0machine learning models,\\xa0natural language processing, and\\xa0deep learning.Write programs that automate data processing and calculations.Tell—and illustrate—stories that clearly convey the meaning of results to decision-makers and stakeholders at every level of technical understanding.Explain how the results can be used to solve business problems.Collaborate with other data science team members, such as data and'),\n",
       " Document(metadata={'source': 'https://www.ibm.com/think/topics/data-science', 'title': 'What is Data Science? | IBM', 'description': 'Data science is a multidisciplinary approach to gaining insights from an increasing amount of data. IBM data science products help find the value of your data.', 'language': 'en', 'start_index': 6117}, page_content='understanding.Explain how the results can be used to solve business problems.Collaborate with other data science team members, such as data and business analysts, IT architects, data engineers, and application developers.'),\n",
       " Document(metadata={'source': 'https://www.ibm.com/think/topics/data-science', 'title': 'What is Data Science? | IBM', 'description': 'Data science is a multidisciplinary approach to gaining insights from an increasing amount of data. IBM data science products help find the value of your data.', 'language': 'en', 'start_index': 6339}, page_content='These skills are in high demand, and as a result, many individuals that are breaking into a data science career, explore a variety of data science programs, such as certification programs, data science courses, and degree programs offered by educational institutions.'),\n",
       " Document(metadata={'source': 'https://www.ibm.com/think/topics/data-science', 'title': 'What is Data Science? | IBM', 'description': 'Data science is a multidisciplinary approach to gaining insights from an increasing amount of data. IBM data science products help find the value of your data.', 'language': 'en', 'start_index': 6632}, page_content='Mixture of Experts | 27 February, episode 44\\n  \\n\\n\\n\\n\\n    \\n\\n\\n\\n\\n\\n\\n\\n\\n\\n\\n\\n\\n\\n            \\n\\n\\n\\n  \\n    Decoding AI: Weekly News Roundup\\n\\n\\n\\n\\n\\n\\n    \\n\\n\\n        \\n\\n\\nJoin our world-class panel of engineers, researchers, product leaders and more as they cut through the AI noise to bring you the latest in AI news and insights.\\n\\n\\n\\n\\nWatch the latest podcast episodes\\n\\n\\n\\n\\n\\n\\n\\n\\n\\n\\n\\n\\n\\n\\n\\n\\n\\n\\n\\n\\n\\r\\n        Data science versus business intelligence'),\n",
       " Document(metadata={'source': 'https://www.ibm.com/think/topics/data-science', 'title': 'What is Data Science? | IBM', 'description': 'Data science is a multidisciplinary approach to gaining insights from an increasing amount of data. IBM data science products help find the value of your data.', 'language': 'en', 'start_index': 7062}, page_content='It may be easy to confuse the terms “data science” and “business intelligence” (BI) because they both relate to an organization’s data and analysis of that data, but they do differ in focus.'),\n",
       " Document(metadata={'source': 'https://www.ibm.com/think/topics/data-science', 'title': 'What is Data Science? | IBM', 'description': 'Data science is a multidisciplinary approach to gaining insights from an increasing amount of data. IBM data science products help find the value of your data.', 'language': 'en', 'start_index': 7253}, page_content='Business intelligence (BI) is typically an umbrella term for the technology that enables data preparation, data mining, data management, and data visualization. Business intelligence tools and processes allow end users to identify actionable information from raw data, facilitating data-driven decision-making within organizations across various industries. While data science tools overlap in much of this regard, business intelligence focuses more on data from the past, and the insights from BI'),\n",
       " Document(metadata={'source': 'https://www.ibm.com/think/topics/data-science', 'title': 'What is Data Science? | IBM', 'description': 'Data science is a multidisciplinary approach to gaining insights from an increasing amount of data. IBM data science products help find the value of your data.', 'language': 'en', 'start_index': 7611}, page_content='While data science tools overlap in much of this regard, business intelligence focuses more on data from the past, and the insights from BI tools are more descriptive in nature. It uses data to understand what happened before to inform a course of action. BI is geared toward static (unchanging) data that is usually structured. While data science uses descriptive data, it typically utilizes it to determine predictive variables, which are then used to categorize data or to make forecasts.'),\n",
       " Document(metadata={'source': 'https://www.ibm.com/think/topics/data-science', 'title': 'What is Data Science? | IBM', 'description': 'Data science is a multidisciplinary approach to gaining insights from an increasing amount of data. IBM data science products help find the value of your data.', 'language': 'en', 'start_index': 8103}, page_content='Data science and BI are not mutually exclusive—digitally savvy organizations use both to fully understand and extract value from their data.'),\n",
       " Document(metadata={'source': 'https://www.ibm.com/think/topics/data-science', 'title': 'What is Data Science? | IBM', 'description': 'Data science is a multidisciplinary approach to gaining insights from an increasing amount of data. IBM data science products help find the value of your data.', 'language': 'en', 'start_index': 8256}, page_content='Data science tools'),\n",
       " Document(metadata={'source': 'https://www.ibm.com/think/topics/data-science', 'title': 'What is Data Science? | IBM', 'description': 'Data science is a multidisciplinary approach to gaining insights from an increasing amount of data. IBM data science products help find the value of your data.', 'language': 'en', 'start_index': 8284}, page_content='Data scientists rely on popular programming languages to conduct exploratory data analysis and statistical regression. These open source tools support pre-built statistical modeling, machine learning, and graphics capabilities. These languages include the following (read more at \"Python vs. R: What\\'s the Difference?\"):'),\n",
       " Document(metadata={'source': 'https://www.ibm.com/think/topics/data-science', 'title': 'What is Data Science? | IBM', 'description': 'Data science is a multidisciplinary approach to gaining insights from an increasing amount of data. IBM data science products help find the value of your data.', 'language': 'en', 'start_index': 8605}, page_content='R Studio:\\xa0An open source programming language and environment for developing statistical computing and graphics.Python:\\xa0It is a dynamic and flexible programming language. The Python includes numerous libraries, such as NumPy, Pandas, Matplotlib, for analyzing data quickly.\\nTo facilitate sharing code and other information, data scientists may use GitHub and Jupyter notebooks.\\nSome data scientists may prefer a user interface, and two common enterprise tools for statistical analysis include:'),\n",
       " Document(metadata={'source': 'https://www.ibm.com/think/topics/data-science', 'title': 'What is Data Science? | IBM', 'description': 'Data science is a multidisciplinary approach to gaining insights from an increasing amount of data. IBM data science products help find the value of your data.', 'language': 'en', 'start_index': 8983}, page_content='Some data scientists may prefer a user interface, and two common enterprise tools for statistical analysis include:\\nSAS:\\xa0A comprehensive tool suite, including visualizations and interactive dashboards, for analyzing, reporting, data mining, and predictive modeling.IBM SPSS:\\xa0Offers advanced statistical analysis, a large library of machine learning algorithms, text analysis, open source extensibility, integration with big data, and seamless deployment into applications.'),\n",
       " Document(metadata={'source': 'https://www.ibm.com/think/topics/data-science', 'title': 'What is Data Science? | IBM', 'description': 'Data science is a multidisciplinary approach to gaining insights from an increasing amount of data. IBM data science products help find the value of your data.', 'language': 'en', 'start_index': 9456}, page_content='Data scientists also gain proficiency in using big data processing platforms, such as Apache Spark, the open source framework Apache Hadoop, and NoSQL databases. They are also skilled with a wide range of data visualization tools, including simple graphics tools included with business presentation and spreadsheet applications (like Microsoft Excel), built-for-purpose commercial visualization tools like Tableau and IBM Cognos, and open source tools like D3.js (a JavaScript library for creating'),\n",
       " Document(metadata={'source': 'https://www.ibm.com/think/topics/data-science', 'title': 'What is Data Science? | IBM', 'description': 'Data science is a multidisciplinary approach to gaining insights from an increasing amount of data. IBM data science products help find the value of your data.', 'language': 'en', 'start_index': 9808}, page_content='built-for-purpose commercial visualization tools like Tableau and IBM Cognos, and open source tools like D3.js (a JavaScript library for creating interactive data visualizations) and RAW Graphs. For building machine learning models, data scientists frequently turn to several frameworks like PyTorch, TensorFlow, MXNet, and Spark MLib.'),\n",
       " Document(metadata={'source': 'https://www.ibm.com/think/topics/data-science', 'title': 'What is Data Science? | IBM', 'description': 'Data science is a multidisciplinary approach to gaining insights from an increasing amount of data. IBM data science products help find the value of your data.', 'language': 'en', 'start_index': 10144}, page_content='Given the steep learning curve in data science, many companies are seeking to accelerate their return on investment for AI projects; they often struggle to hire the talent needed to realize data science project’s full potential. To address this gap, they are turning to multipersona data science and machine learning (DSML) platforms, giving rise to the role of “citizen data scientist.”'),\n",
       " Document(metadata={'source': 'https://www.ibm.com/think/topics/data-science', 'title': 'What is Data Science? | IBM', 'description': 'Data science is a multidisciplinary approach to gaining insights from an increasing amount of data. IBM data science products help find the value of your data.', 'language': 'en', 'start_index': 10532}, page_content='Multipersona DSML platforms use automation, self-service portals, and low-code/no-code user interfaces so that people with little or no background in digital technology or expert data science can create business value using data science and machine learning. These platforms also support expert data scientists by also offering a more technical interface. Using a multipersona DSML platform encourages collaboration across the enterprise.'),\n",
       " Document(metadata={'source': 'https://www.ibm.com/think/topics/data-science', 'title': 'What is Data Science? | IBM', 'description': 'Data science is a multidisciplinary approach to gaining insights from an increasing amount of data. IBM data science products help find the value of your data.', 'language': 'en', 'start_index': 10983}, page_content='Data science and cloud computing'),\n",
       " Document(metadata={'source': 'https://www.ibm.com/think/topics/data-science', 'title': 'What is Data Science? | IBM', 'description': 'Data science is a multidisciplinary approach to gaining insights from an increasing amount of data. IBM data science products help find the value of your data.', 'language': 'en', 'start_index': 11025}, page_content='Cloud computing\\xa0scales data science by providing access to additional processing power, storage, and other tools required for data science projects.'),\n",
       " Document(metadata={'source': 'https://www.ibm.com/think/topics/data-science', 'title': 'What is Data Science? | IBM', 'description': 'Data science is a multidisciplinary approach to gaining insights from an increasing amount of data. IBM data science products help find the value of your data.', 'language': 'en', 'start_index': 11174}, page_content='Since data science frequently leverages large data sets, tools that can scale with the size of the data is incredibly important, particularly for time-sensitive projects. Cloud storage solutions, such as data lakes, provide access to storage infrastructure, which are capable of ingesting and processing large volumes of data with ease. These storage systems provide flexibility to end users, allowing them to spin up large clusters as needed. They can also add incremental compute nodes to expedite'),\n",
       " Document(metadata={'source': 'https://www.ibm.com/think/topics/data-science', 'title': 'What is Data Science? | IBM', 'description': 'Data science is a multidisciplinary approach to gaining insights from an increasing amount of data. IBM data science products help find the value of your data.', 'language': 'en', 'start_index': 11525}, page_content='systems provide flexibility to end users, allowing them to spin up large clusters as needed. They can also add incremental compute nodes to expedite data processing jobs, allowing the business to make short-term tradeoffs for a larger long-term outcome. Cloud platforms typically have different pricing models, such a per-use or subscriptions, to meet the needs of their end user—whether they are a large enterprise or a small startup.'),\n",
       " Document(metadata={'source': 'https://www.ibm.com/think/topics/data-science', 'title': 'What is Data Science? | IBM', 'description': 'Data science is a multidisciplinary approach to gaining insights from an increasing amount of data. IBM data science products help find the value of your data.', 'language': 'en', 'start_index': 11961}, page_content='Open source technologies are widely used in data science tool sets. When they’re hosted in the cloud, teams don’t need to install, configure, maintain, or update them locally. Several cloud providers, including IBM Cloud®, also offer prepackaged tool kits that enable data scientists to build models without coding, further democratizing access to technology innovations and data insights.'),\n",
       " Document(metadata={'source': 'https://www.ibm.com/think/topics/data-science', 'title': 'What is Data Science? | IBM', 'description': 'Data science is a multidisciplinary approach to gaining insights from an increasing amount of data. IBM data science products help find the value of your data.', 'language': 'en', 'start_index': 12363}, page_content='Data science use cases'),\n",
       " Document(metadata={'source': 'https://www.ibm.com/think/topics/data-science', 'title': 'What is Data Science? | IBM', 'description': 'Data science is a multidisciplinary approach to gaining insights from an increasing amount of data. IBM data science products help find the value of your data.', 'language': 'en', 'start_index': 12395}, page_content='Enterprises can unlock numerous benefits from data science. Common use cases include process optimization through intelligent automation and enhanced targeting and personalization to improve the customer experience (CX). However, more specific examples include:\\nHere are a few representative use cases for data science and artificial intelligence:'),\n",
       " Document(metadata={'source': 'https://www.ibm.com/think/topics/data-science', 'title': 'What is Data Science? | IBM', 'description': 'Data science is a multidisciplinary approach to gaining insights from an increasing amount of data. IBM data science products help find the value of your data.', 'language': 'en', 'start_index': 12743}, page_content='An international bank\\xa0delivers faster loan services with a mobile app\\xa0using machine learning-powered credit risk models and a\\xa0hybrid cloud computing\\xa0architecture that is both powerful and secure.An electronics firm is developing\\xa0ultra-powerful 3D-printed sensors to guide tomorrow’s driverless vehicles. The solution relies on data science and analytics tools to enhance its real-time object detection capabilities.A robotic process automation (RPA) solution provider developed a\\xa0cognitive business'),\n",
       " Document(metadata={'source': 'https://www.ibm.com/think/topics/data-science', 'title': 'What is Data Science? | IBM', 'description': 'Data science is a multidisciplinary approach to gaining insights from an increasing amount of data. IBM data science products help find the value of your data.', 'language': 'en', 'start_index': 13097}, page_content='tools to enhance its real-time object detection capabilities.A robotic process automation (RPA) solution provider developed a\\xa0cognitive business process mining solution\\xa0that reduces incident handling times between 15% and 95% for its client companies. The solution is trained to understand the content and sentiment of customer emails, directing service teams to prioritize those that are most relevant and urgent.A digital media technology company created an audience analytics platform that'),\n",
       " Document(metadata={'source': 'https://www.ibm.com/think/topics/data-science', 'title': 'What is Data Science? | IBM', 'description': 'Data science is a multidisciplinary approach to gaining insights from an increasing amount of data. IBM data science products help find the value of your data.', 'language': 'en', 'start_index': 13443}, page_content='service teams to prioritize those that are most relevant and urgent.A digital media technology company created an audience analytics platform that enables its clients to see what’s engaging TV audiences as they’re offered a growing range of digital channels. The solution employs deep analytics and machine learning to gather real-time insights into viewer behavior.An\\xa0urban police department created statistical incident analysis tools\\xa0to help officers understand when and where to deploy resources'),\n",
       " Document(metadata={'source': 'https://www.ibm.com/think/topics/data-science', 'title': 'What is Data Science? | IBM', 'description': 'Data science is a multidisciplinary approach to gaining insights from an increasing amount of data. IBM data science products help find the value of your data.', 'language': 'en', 'start_index': 13793}, page_content='viewer behavior.An\\xa0urban police department created statistical incident analysis tools\\xa0to help officers understand when and where to deploy resources in order to prevent crime. The data-driven solution creates reports and dashboards to augment situational awareness for field officers.Shanghai Changjiang Science and Technology Development used IBM® Watson® technology to build an\\xa0AI-based medical assessment platform\\xa0that can analyze existing medical records to categorize patients based on their'),\n",
       " Document(metadata={'source': 'https://www.ibm.com/think/topics/data-science', 'title': 'What is Data Science? | IBM', 'description': 'Data science is a multidisciplinary approach to gaining insights from an increasing amount of data. IBM data science products help find the value of your data.', 'language': 'en', 'start_index': 14143}, page_content='Watson® technology to build an\\xa0AI-based medical assessment platform\\xa0that can analyze existing medical records to categorize patients based on their risk of experiencing a stroke and that can predict the success rate of different treatment plans.'),\n",
       " Document(metadata={'source': 'https://www.ibm.com/think/topics/data-science', 'title': 'What is Data Science? | IBM', 'description': 'Data science is a multidisciplinary approach to gaining insights from an increasing amount of data. IBM data science products help find the value of your data.', 'language': 'en', 'start_index': 14414}, page_content='Ebook\\n        \\n\\n            Four steps to better business forecasting with analytics\\n        \\nUse the power of analytics and business intelligence to plan, forecast and shape future outcomes that best benefit your company and customers.\\n\\nRead the ebook\\n\\n\\n\\n\\n\\n\\n\\n\\n\\n\\n\\n\\n\\n\\n\\n\\n\\n\\n\\n\\n\\n\\n\\n\\n\\n\\n\\n\\n\\n\\n\\n\\n\\n\\n\\n\\n\\n            \\n\\n\\n\\n  \\n    Resources\\n\\n\\n\\n\\n\\n\\n    \\n\\n\\n        \\n\\n\\n\\n\\n\\n\\n\\n\\n\\n\\n\\n\\n\\n            AI models'),\n",
       " Document(metadata={'source': 'https://www.ibm.com/think/topics/data-science', 'title': 'What is Data Science? | IBM', 'description': 'Data science is a multidisciplinary approach to gaining insights from an increasing amount of data. IBM data science products help find the value of your data.', 'language': 'en', 'start_index': 14727}, page_content='Resources\\n\\n\\n\\n\\n\\n\\n    \\n\\n\\n        \\n\\n\\n\\n\\n\\n\\n\\n\\n\\n\\n\\n\\n\\n            AI models\\n        \\n\\n            Explore IBM Granite\\n        \\nIBM® Granite™ is our family of open, performant and trusted AI models, tailored for business and optimized to scale your AI applications. Explore language, code, time series and guardrail options.\\n\\nMeet Granite\\n\\n\\n\\n\\n\\n\\n            Report'),\n",
       " Document(metadata={'source': 'https://www.ibm.com/think/topics/data-science', 'title': 'What is Data Science? | IBM', 'description': 'Data science is a multidisciplinary approach to gaining insights from an increasing amount of data. IBM data science products help find the value of your data.', 'language': 'en', 'start_index': 15043}, page_content='Meet Granite\\n\\n\\n\\n\\n\\n\\n            Report\\n        \\n\\n            Managing data for AI and analytics at scale\\n        \\nLearn how an open data lakehouse approach can provide trustworthy data and faster analytics and AI projects execution.\\n\\nRead the report\\n\\n\\n\\n\\n\\n\\n            Ebook\\n        \\n\\n            Data science and MLOps for data leaders\\n        \\nUse this ebook to align with other leaders on the 3 key goals of MLOps and trustworthy AI: trust in data, trust in models and trust in processes.'),\n",
       " Document(metadata={'source': 'https://www.ibm.com/think/topics/data-science', 'title': 'What is Data Science? | IBM', 'description': 'Data science is a multidisciplinary approach to gaining insights from an increasing amount of data. IBM data science products help find the value of your data.', 'language': 'en', 'start_index': 15534}, page_content=\"Read the ebook\\n\\n\\n\\n\\n\\n\\n            Report\\n        \\n\\n            Increase AI adoption with AI-ready data\\n        \\nDiscover why AI-powered data intelligence and data integration are critical to drive structured and unstructured data preparedness and accelerate AI outcomes.\\n\\nRead the report\\n\\n\\n\\n\\n\\n\\n            Guide\\n        \\n\\n            The data differentiator\\n        \\nExplore the data leader's guide to building a data-driven organization and driving business advantage.\\n\\nRead the guide\"),\n",
       " Document(metadata={'source': 'https://www.ibm.com/think/topics/data-science', 'title': 'What is Data Science? | IBM', 'description': 'Data science is a multidisciplinary approach to gaining insights from an increasing amount of data. IBM data science products help find the value of your data.', 'language': 'en', 'start_index': 16004}, page_content='Read the guide\\n\\n\\n\\n\\n\\n\\n            Ebook\\n        \\n\\n            How to choose the right foundation model\\n        \\nLearn how to select the most suitable AI foundation model for your use case.\\n\\nRead the ebook\\n\\n\\n\\n\\n\\n\\n            Ebook\\n        \\n\\n            Unlock the Power of Generative AI + ML\\n        \\nLearn how to incorporate generative AI, machine learning and foundation models into your business operations for improved performance.\\n\\nRead the ebook\\n\\n\\n\\n\\n\\n\\n            Insight'),\n",
       " Document(metadata={'source': 'https://www.ibm.com/think/topics/data-science', 'title': 'What is Data Science? | IBM', 'description': 'Data science is a multidisciplinary approach to gaining insights from an increasing amount of data. IBM data science products help find the value of your data.', 'language': 'en', 'start_index': 16438}, page_content='Read the ebook\\n\\n\\n\\n\\n\\n\\n            Insight\\n        \\n\\n            Architectural thinking in the Wild West of data science\\n        \\nLearn why having a complete freedom in choice of programming languages, tools and frameworks improves creative thinking and evolvement.\\n\\nRead the insight\\n\\n\\n\\n\\n\\n\\n\\n\\n\\n\\n\\n\\n\\n\\n\\n\\n\\n\\n\\n\\n\\n\\n\\n\\n\\n            \\n            \\n\\n     \\n    Related solutions\\n\\n\\n\\n\\n    \\n\\n\\n        \\n\\n\\n\\n\\n\\n\\n\\n\\n\\n\\n\\n\\n\\n\\n\\n\\n\\n\\n\\n\\n\\n\\n\\n\\n\\n\\n\\n\\n\\n\\n\\n\\n\\n\\n\\n\\n\\n\\n\\n\\n\\n\\n\\n\\n\\n\\n\\n\\n\\n\\n\\n\\n\\n\\n\\n\\n\\n\\n        \\n\\n\\n\\n  \\n    Data science tools and solutions'),\n",
       " Document(metadata={'source': 'https://www.ibm.com/think/topics/data-science', 'title': 'What is Data Science? | IBM', 'description': 'Data science is a multidisciplinary approach to gaining insights from an increasing amount of data. IBM data science products help find the value of your data.', 'language': 'en', 'start_index': 16897}, page_content='Data science tools and solutions\\n\\n\\n\\n\\n\\n\\n    \\n\\n\\n    \\n\\n\\n\\nUse data science tools and solutions to uncover patterns and build predictions by using data, algorithms, machine learning and AI techniques.\\n\\n\\n\\nExplore data science solutions\\n            \\n        \\n\\n\\n\\n\\n\\n\\n\\n\\n\\n\\n\\n\\n\\n\\n\\n\\n\\n\\n\\n\\n\\n\\n\\n\\n\\n\\n\\n\\n\\n\\n\\n\\n\\n\\n\\n\\n\\n\\n\\n\\n\\n\\n\\n\\n\\n\\n\\n\\n\\n\\n\\n\\n\\n\\n\\n\\n\\n\\n\\n        \\n\\n\\n\\n  \\n    IBM Cognos Analytics'),\n",
       " Document(metadata={'source': 'https://www.ibm.com/think/topics/data-science', 'title': 'What is Data Science? | IBM', 'description': 'Data science is a multidisciplinary approach to gaining insights from an increasing amount of data. IBM data science products help find the value of your data.', 'language': 'en', 'start_index': 17227}, page_content='IBM Cognos Analytics\\n\\n\\n\\n\\n\\n\\n    \\n\\n\\n    \\n\\n\\n\\nIntroducing Cognos Analytics 12.0, AI-powered insights for better decision-making.\\n\\n\\n\\nExplore Cognos Analytics\\n            \\n        \\n\\n\\n\\n\\n\\n\\n\\n\\n\\n\\n\\n\\n\\n\\n\\n\\n\\n\\n\\n\\n\\n\\n\\n\\n\\n\\n\\n\\n\\n\\n\\n\\n\\n\\n\\n\\n\\n\\n\\n\\n\\n\\n\\n\\n\\n\\n\\n\\n\\n\\n\\n\\n\\n\\n\\n\\n\\n\\n        \\n\\n\\n\\n  \\n    Data and analytics consulting services'),\n",
       " Document(metadata={'source': 'https://www.ibm.com/think/topics/data-science', 'title': 'What is Data Science? | IBM', 'description': 'Data science is a multidisciplinary approach to gaining insights from an increasing amount of data. IBM data science products help find the value of your data.', 'language': 'en', 'start_index': 17479}, page_content='Data and analytics consulting services\\n\\n\\n\\n\\n\\n\\n    \\n\\n\\n    \\n\\n\\n\\nUnlock the value of enterprise data with IBM Consulting, building an insight-driven organization that delivers business advantage.\\n\\n\\n\\nDiscover analytics services\\n            \\n        \\n\\n\\n\\n\\n\\n\\n\\n\\n\\n\\n\\n\\n\\n\\n\\n\\n\\n\\n\\n\\nTake the next step'),\n",
       " Document(metadata={'source': 'https://www.ibm.com/think/topics/data-science', 'title': 'What is Data Science? | IBM', 'description': 'Data science is a multidisciplinary approach to gaining insights from an increasing amount of data. IBM data science products help find the value of your data.', 'language': 'en', 'start_index': 17673}, page_content='Discover analytics services\\n            \\n        \\n\\n\\n\\n\\n\\n\\n\\n\\n\\n\\n\\n\\n\\n\\n\\n\\n\\n\\n\\n\\nTake the next step\\n\\n\\n\\n\\nUse data science tools and solutions to uncover patterns and build predictions by using data, algorithms, machine learning and AI techniques.\\n\\n\\n\\n\\n\\nExplore data science solutions\\n\\n\\n\\nExplore analytics services')]"
      ]
     },
     "execution_count": 40,
     "metadata": {},
     "output_type": "execute_result"
    }
   ],
   "source": [
    "all_splits"
   ]
  },
  {
   "cell_type": "code",
   "execution_count": 41,
   "metadata": {},
   "outputs": [],
   "source": [
    "from langchain_chroma import Chroma\n",
    "from langchain_aws.embeddings.bedrock import BedrockEmbeddings\n",
    "\n",
    "vectorstore = Chroma.from_documents(documents=all_splits, embedding=BedrockEmbeddings(client=bedrock_client,model_id=\"amazon.titan-embed-text-v2:0\"))"
   ]
  },
  {
   "cell_type": "code",
   "execution_count": 14,
   "metadata": {},
   "outputs": [
    {
     "data": {
      "text/plain": [
       "<langchain_chroma.vectorstores.Chroma at 0x23b5189e030>"
      ]
     },
     "execution_count": 14,
     "metadata": {},
     "output_type": "execute_result"
    }
   ],
   "source": [
    "vectorstore"
   ]
  },
  {
   "cell_type": "code",
   "execution_count": 44,
   "metadata": {},
   "outputs": [
    {
     "data": {
      "text/plain": [
       "2"
      ]
     },
     "execution_count": 44,
     "metadata": {},
     "output_type": "execute_result"
    }
   ],
   "source": [
    "retriever = vectorstore.as_retriever(search_type=\"similarity\", search_kwargs={\"k\": 2})\n",
    "\n",
    "retrieved_docs = retriever.invoke(\"difference between data science and cloud computing\")\n",
    "\n",
    "len(retrieved_docs)"
   ]
  },
  {
   "cell_type": "code",
   "execution_count": 45,
   "metadata": {},
   "outputs": [
    {
     "name": "stdout",
     "output_type": "stream",
     "text": [
      "Data science and cloud computing\n",
      "---------\n",
      "Cloud computing scales data science by providing access to additional processing power, storage, and other tools required for data science projects.\n"
     ]
    }
   ],
   "source": [
    "print(retrieved_docs[0].page_content)\n",
    "print('---------')\n",
    "print(retrieved_docs[1].page_content)\n"
   ]
  },
  {
   "cell_type": "code",
   "execution_count": null,
   "metadata": {},
   "outputs": [],
   "source": []
  }
 ],
 "metadata": {
  "kernelspec": {
   "display_name": "Python 3",
   "language": "python",
   "name": "python3"
  },
  "language_info": {
   "codemirror_mode": {
    "name": "ipython",
    "version": 3
   },
   "file_extension": ".py",
   "mimetype": "text/x-python",
   "name": "python",
   "nbconvert_exporter": "python",
   "pygments_lexer": "ipython3",
   "version": "3.12.5"
  }
 },
 "nbformat": 4,
 "nbformat_minor": 2
}
