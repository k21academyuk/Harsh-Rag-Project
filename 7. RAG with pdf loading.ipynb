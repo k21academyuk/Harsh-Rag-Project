{
 "cells": [
  {
   "cell_type": "code",
   "execution_count": 6,
   "metadata": {},
   "outputs": [
    {
     "name": "stdout",
     "output_type": "stream",
     "text": [
      "Note: you may need to restart the kernel to use updated packages.\n"
     ]
    },
    {
     "name": "stderr",
     "output_type": "stream",
     "text": [
      "ERROR: pip's dependency resolver does not currently take into account all the packages that are installed. This behaviour is the source of the following dependency conflicts.\n",
      "langchain-anthropic 0.1.23 requires langchain-core<0.3.0,>=0.2.26, but you have langchain-core 0.3.41 which is incompatible.\n",
      "langchain-chroma 0.1.3 requires langchain-core<0.3,>=0.1.40, but you have langchain-core 0.3.41 which is incompatible.\n",
      "langchain-openai 0.1.22 requires langchain-core<0.3.0,>=0.2.33, but you have langchain-core 0.3.41 which is incompatible.\n",
      "langgraph 0.2.14 requires langchain-core<0.3,>=0.2.27, but you have langchain-core 0.3.41 which is incompatible.\n",
      "langgraph-checkpoint 1.0.6 requires langchain-core<0.3,>=0.2.22, but you have langchain-core 0.3.41 which is incompatible.\n",
      "langserve 0.2.2 requires langchain-core<0.3,>=0.1, but you have langchain-core 0.3.41 which is incompatible.\n",
      "\n",
      "[notice] A new release of pip is available: 25.0 -> 25.0.1\n",
      "[notice] To update, run: python.exe -m pip install --upgrade pip\n"
     ]
    }
   ],
   "source": [
    "%pip install -qU pypdf langchain_community"
   ]
  },
  {
   "cell_type": "code",
   "execution_count": 31,
   "metadata": {},
   "outputs": [
    {
     "name": "stdout",
     "output_type": "stream",
     "text": [
      "1\n"
     ]
    }
   ],
   "source": [
    "from langchain_community.document_loaders import PyPDFLoader\n",
    "\n",
    "file_path = \"C:\\\\Users\\\\361DT\\\\Downloads\\\\CompTIA Security+ ce certificate.pdf\"\n",
    "loader = PyPDFLoader(file_path)\n",
    "\n",
    "docs = loader.load()\n",
    "\n",
    "print(len(docs))"
   ]
  },
  {
   "cell_type": "code",
   "execution_count": 32,
   "metadata": {},
   "outputs": [
    {
     "data": {
      "text/plain": [
       "[Document(metadata={'producer': 'PDFsharp 1.50.5147 (www.pdfsharp.com)', 'creator': 'PDFsharp 1.50.5147 (www.pdfsharp.com)', 'creationdate': '2024-04-19T14:38:11-06:00', 'source': 'C:\\\\Users\\\\361DT\\\\Downloads\\\\CompTIA Security+ ce certificate.pdf', 'total_pages': 1, 'page': 0, 'page_label': '1'}, page_content='Harsh .\\nCOMP001022162851\\nNovember 28, 2022\\nEXP DATE: 11/28/2025\\nCode: 2FHQL66SCB1QQMGG\\nVerify at: http://verify.CompTIA.org')]"
      ]
     },
     "execution_count": 32,
     "metadata": {},
     "output_type": "execute_result"
    }
   ],
   "source": [
    "docs"
   ]
  },
  {
   "cell_type": "code",
   "execution_count": 3,
   "metadata": {},
   "outputs": [
    {
     "name": "stdout",
     "output_type": "stream",
     "text": [
      "Langchain key to start tracing\n"
     ]
    }
   ],
   "source": [
    "# %pip install --upgrade langsmith\n",
    "\n",
    "import os\n",
    "\n",
    "print(\"Langchain key to start tracing\")\n",
    "os.environ[\"LANGCHAIN_TRACING_V2\"] = \"true\"\n",
    "os.environ[\"LANGCHAIN_PROJECT\"] = \"pr-aching-poisoning-52\"\n",
    "os.environ[\"LANGCHAIN_API_KEY\"] = \"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\""
   ]
  },
  {
   "cell_type": "code",
   "execution_count": 4,
   "metadata": {},
   "outputs": [],
   "source": [
    "from getpass import getpass\n",
    "import boto3\n",
    "\n",
    "AWS_ACCESS_KEY = getpass(\"AWS Acces key: \")\n",
    "AWS_SECRET_KEY = getpass(\"AWS Secret key: \")\n",
    "AWS_REGION = \"ap-south-1\"\n",
    "\n",
    "bedrock_client = boto3.client(\n",
    "    service_name=\"bedrock-runtime\",\n",
    "    region_name=AWS_REGION,\n",
    "    aws_access_key_id=AWS_ACCESS_KEY,\n",
    "    aws_secret_access_key=AWS_SECRET_KEY,\n",
    ")"
   ]
  },
  {
   "cell_type": "code",
   "execution_count": 5,
   "metadata": {},
   "outputs": [
    {
     "name": "stderr",
     "output_type": "stream",
     "text": [
      "c:\\Users\\361DT\\AppData\\Local\\Programs\\Python\\Python312\\Lib\\site-packages\\pydantic\\_internal\\_fields.py:161: UserWarning: Field \"model_arn\" has conflict with protected namespace \"model_\".\n",
      "\n",
      "You may be able to resolve this warning by setting `model_config['protected_namespaces'] = ()`.\n",
      "  warnings.warn(\n"
     ]
    }
   ],
   "source": [
    "from langchain_aws import BedrockLLM\n",
    "\n",
    "llm = BedrockLLM(client=bedrock_client,model_id=\"amazon.titan-text-express-v1\")"
   ]
  },
  {
   "cell_type": "code",
   "execution_count": 34,
   "metadata": {},
   "outputs": [],
   "source": [
    "from langchain_text_splitters import RecursiveCharacterTextSplitter\n",
    "\n",
    "text_splitter = RecursiveCharacterTextSplitter(chunk_size=100, chunk_overlap=15)\n",
    "all_splits = text_splitter.split_documents(docs)\n"
   ]
  },
  {
   "cell_type": "code",
   "execution_count": 35,
   "metadata": {},
   "outputs": [
    {
     "data": {
      "text/plain": [
       "[Document(metadata={'producer': 'PDFsharp 1.50.5147 (www.pdfsharp.com)', 'creator': 'PDFsharp 1.50.5147 (www.pdfsharp.com)', 'creationdate': '2024-04-19T14:38:11-06:00', 'source': 'C:\\\\Users\\\\361DT\\\\Downloads\\\\CompTIA Security+ ce certificate.pdf', 'total_pages': 1, 'page': 0, 'page_label': '1'}, page_content='Harsh .\\nCOMP001022162851\\nNovember 28, 2022\\nEXP DATE: 11/28/2025\\nCode: 2FHQL66SCB1QQMGG'),\n",
       " Document(metadata={'producer': 'PDFsharp 1.50.5147 (www.pdfsharp.com)', 'creator': 'PDFsharp 1.50.5147 (www.pdfsharp.com)', 'creationdate': '2024-04-19T14:38:11-06:00', 'source': 'C:\\\\Users\\\\361DT\\\\Downloads\\\\CompTIA Security+ ce certificate.pdf', 'total_pages': 1, 'page': 0, 'page_label': '1'}, page_content='Verify at: http://verify.CompTIA.org')]"
      ]
     },
     "execution_count": 35,
     "metadata": {},
     "output_type": "execute_result"
    }
   ],
   "source": [
    "all_splits"
   ]
  },
  {
   "cell_type": "code",
   "execution_count": 41,
   "metadata": {},
   "outputs": [],
   "source": [
    "from langchain_chroma import Chroma\n",
    "from langchain_aws.embeddings.bedrock import BedrockEmbeddings\n",
    "\n",
    "vectorstore = Chroma.from_documents(documents=all_splits, embedding=BedrockEmbeddings(client=bedrock_client,model_id=\"amazon.titan-embed-text-v2:0\"))"
   ]
  },
  {
   "cell_type": "code",
   "execution_count": 42,
   "metadata": {},
   "outputs": [],
   "source": [
    "retriever = vectorstore.as_retriever()"
   ]
  },
  {
   "cell_type": "code",
   "execution_count": 43,
   "metadata": {},
   "outputs": [
    {
     "data": {
      "text/plain": [
       "3"
      ]
     },
     "execution_count": 43,
     "metadata": {},
     "output_type": "execute_result"
    }
   ],
   "source": [
    "retriever = vectorstore.as_retriever(search_type=\"similarity\", search_kwargs={\"k\": 3})\n",
    "\n",
    "retrieved_docs = retriever.invoke(\"what is the expiry date?\")\n",
    "\n",
    "len(retrieved_docs)"
   ]
  },
  {
   "cell_type": "code",
   "execution_count": 16,
   "metadata": {},
   "outputs": [
    {
     "name": "stdout",
     "output_type": "stream",
     "text": [
      "Harsh\n",
      " \n",
      "AWS  Champion  Authorized  Instructor  (AAI-Champion)  Microsoft  Certified  Trainer  (MCT)  Comptia  Technical  Trainer  (CTT+)  Corporate  &  Academia  Learning  Enhancer  Training  feedback  -  4.93  out  of  5  (MTM  ratings)  \n",
      "LinkedIn:  https://www.linkedin.com/in/harshsharma798 Email:  aravsharma798@gmail.com Mobile  Number:  +91  9217276373   Active  Certifications  &  Titles:  \n",
      "✔ \n",
      " \n",
      "AWS\n",
      " \n",
      "Champion\n",
      " \n",
      "Authorized\n",
      " \n",
      "Instructor\n",
      " \n",
      "(AAI-Champion)\n",
      "---------\n",
      "Harsh\n",
      " \n",
      "AWS  Champion  Authorized  Instructor  (AAI-Champion)  Microsoft  Certified  Trainer  (MCT)  Comptia  Technical  Trainer  (CTT+)  Corporate  &  Academia  Learning  Enhancer  Training  feedback  -  4.93  out  of  5  (MTM  ratings)  \n",
      "LinkedIn:  https://www.linkedin.com/in/harshsharma798 Email:  aravsharma798@gmail.com Mobile  Number:  +91  9217276373   Active  Certifications  &  Titles:  \n",
      "✔ \n",
      " \n",
      "AWS\n",
      " \n",
      "Champion\n",
      " \n",
      "Authorized\n",
      " \n",
      "Instructor\n",
      " \n",
      "(AAI-Champion)\n",
      " ✔  Microsoft  Certified  Trainer  (MCT)  ✔  Comptia  Technical  Trainer  (CTT+)  ✔  Approved  Instructor  for  IBM  Innovation  Center  for  Education  (ICE)  \n",
      "✔ \n",
      " \n",
      "Microsoft\n",
      " \n",
      "Azure\n",
      " \n",
      "AI\n",
      " \n",
      "Engineer\n",
      " \n",
      "Associate\n",
      " \n",
      "(AI-102)\n",
      " \n",
      "✔ \n",
      " \n",
      "Microsoft\n",
      " \n",
      "Azure\n",
      " \n",
      "Data\n",
      " \n",
      "Scientist\n",
      " \n",
      "Associate\n",
      " \n",
      "(DP-100)\n",
      " \n",
      "✔ \n",
      " \n",
      "AWS\n",
      " \n",
      "Certified\n",
      " \n",
      "Machine\n",
      " \n",
      "Learning\n",
      " \n",
      "-\n",
      " \n",
      "Specialty\n",
      " \n",
      "(MLS-C01)\n",
      " ✔  AWS  Certified  DevOps  Engineer  -  Professional  (DOP-C02)  \n",
      "✔ \n",
      " \n",
      "AWS\n",
      " \n",
      "Certified\n",
      " \n",
      "Solutions\n",
      " \n",
      "Architect\n",
      " \n",
      "-\n",
      " \n",
      "Associate\n",
      " \n",
      "(SAA-C03)\n",
      "---------\n",
      "✔  Azure  -  VM,  Copilot,  Cognitive  Services,  ML  Studio  etc…   Trainings  Delivered  to:   Corporate  Clients   ✔  Oman  Airports,  Oman  ✔  In2IT  ::  South  Africa,  UK,  India  ✔  American  Express,  Bangalore,  India  ✔  Microsoft,  India  ✔  Medicines  and  Healthcare  products  Regulatory  Agency  (MHRA),  UK  ✔  TCS,  Singapore  ✔  L&T  Technology  Services  ✔  Airbus  India  ✔  Max  Life  Insurance,  India  ✔  Reliance  Jio,  Mumbai,  India  ✔  OpsTree,  Noida,  India  ✔  Techgenies,  US  and  Mexico  ✔  London  Stock  Exchange,  UK  ✔  KPMG,  UK  ✔  AWS,  UK  ✔  Cisco  Systems\n"
     ]
    }
   ],
   "source": [
    "print(retrieved_docs[0].page_content)\n",
    "print('---------')\n",
    "print(retrieved_docs[1].page_content)\n",
    "print('---------')\n",
    "print(retrieved_docs[2].page_content)\n"
   ]
  },
  {
   "cell_type": "code",
   "execution_count": 45,
   "metadata": {},
   "outputs": [
    {
     "name": "stderr",
     "output_type": "stream",
     "text": [
      "Error in LangChainTracer.on_llm_end callback: TracerException('No indexed run ID 7cd6d832-5f9b-48c8-ab07-039b970eb597.')\n"
     ]
    },
    {
     "data": {
      "text/plain": [
       "{'input': 'what is the expiry date?',\n",
       " 'context': [Document(metadata={'creationdate': '', 'creator': 'PyPDF', 'page': 1, 'page_label': '2', 'producer': 'Skia/PDF m134 Google Docs Renderer', 'source': 'C:\\\\Users\\\\361DT\\\\Desktop\\\\Config\\\\Harsh Sharma Trainer Profile.pdf', 'title': 'Harsh Sharma Trainer Profile', 'total_pages': 3}, page_content='India  ✔  OpsTree,  Noida,  India  ✔  Techgenies,  US  and  Mexico  ✔  London  Stock  Exchange,  UK  ✔  KPMG,  UK  ✔  AWS,  UK  ✔  Cisco  Systems  Inc.  ✔  HSBC  Limited'),\n",
       "  Document(metadata={'creationdate': '', 'creator': 'PyPDF', 'page': 1, 'page_label': '2', 'producer': 'Skia/PDF m134 Google Docs Renderer', 'source': 'C:\\\\Users\\\\361DT\\\\Desktop\\\\Config\\\\Harsh Sharma Trainer Profile.pdf', 'title': 'Harsh Sharma Trainer Profile', 'total_pages': 3}, page_content='✔  Neural  networks  -  CNN,  RNN,  GAN,  Transformers,  Attention  Mechanism  ✔  Generative  AI  -  LLM,  Langchain,  GPT  architecture,  LlamaIndex  ✔  Data  Engg.  -  Starburst,  Apache,  Data  warehousing,  ETL,  Databricks  ✔  API  Management  -  RESTful,  Soap,  Fast  API,  GraphQL,  API  security,  webhooks  ✔  Databases  -  MySQL,  PostgreSQL,  Neo4j,  MongoDB  ✔  Web  development  technologies  -  Django  &  Flask  ✔  IoT  -  Embedded  programming,  AWS  IoT,  Azure  IoT,  AWS  Greengrass  ✔  Cyber  security  fundamentals  for  organizations  ✔  Agile  Architecture  for  Software'),\n",
       "  Document(metadata={'creationdate': '', 'creator': 'PyPDF', 'page': 1, 'page_label': '2', 'producer': 'Skia/PDF m134 Google Docs Renderer', 'source': 'C:\\\\Users\\\\361DT\\\\Desktop\\\\Config\\\\Harsh Sharma Trainer Profile.pdf', 'title': 'Harsh Sharma Trainer Profile', 'total_pages': 3}, page_content='CodePipeline,\\n \\nBeanstalk,\\n \\nASG,\\n \\nVPC,\\n \\nAPI\\n \\nGateway\\n \\netc…')],\n",
       " 'answer': '\\nBot: Sorry, the model does not have access to real-time data and cannot provide you with an answer to your question.'}"
      ]
     },
     "execution_count": 45,
     "metadata": {},
     "output_type": "execute_result"
    }
   ],
   "source": [
    "from langchain.chains import create_retrieval_chain\n",
    "from langchain.chains.combine_documents import create_stuff_documents_chain\n",
    "from langchain_core.prompts import ChatPromptTemplate\n",
    "\n",
    "system_prompt = (\n",
    "    \"You are an assistant for question-answering tasks. \"\n",
    "    \"Use the following pieces of retrieved context to answer \"\n",
    "    \"the question. If you don't know the answer, say that you \"\n",
    "    \"don't know. Use three sentences maximum and keep the \"\n",
    "    \"answer concise. Don't answer anything based on your \"\n",
    "    \"prior knowledge only answer with information from document.\"\n",
    "    \"Don't avoid even personal information from the document.\"\n",
    "    \"\\n\\n\"\n",
    "    \"{context}\"\n",
    ")\n",
    "\n",
    "prompt = ChatPromptTemplate.from_messages(\n",
    "    [\n",
    "        (\"system\", system_prompt),\n",
    "        (\"human\", \"{input}\"),\n",
    "    ]\n",
    ")\n",
    "\n",
    "\n",
    "question_answer_chain = create_stuff_documents_chain(llm, prompt)\n",
    "rag_chain = create_retrieval_chain(retriever, question_answer_chain)\n",
    "\n",
    "results = rag_chain.invoke({\"input\": \"what is the expiry date?\"})\n",
    "\n",
    "results"
   ]
  },
  {
   "cell_type": "code",
   "execution_count": null,
   "metadata": {},
   "outputs": [],
   "source": []
  }
 ],
 "metadata": {
  "kernelspec": {
   "display_name": "Python 3",
   "language": "python",
   "name": "python3"
  },
  "language_info": {
   "codemirror_mode": {
    "name": "ipython",
    "version": 3
   },
   "file_extension": ".py",
   "mimetype": "text/x-python",
   "name": "python",
   "nbconvert_exporter": "python",
   "pygments_lexer": "ipython3",
   "version": "3.12.5"
  }
 },
 "nbformat": 4,
 "nbformat_minor": 2
}
